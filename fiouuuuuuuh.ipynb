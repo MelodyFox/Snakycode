{
  "nbformat": 4,
  "nbformat_minor": 0,
  "metadata": {
    "colab": {
      "name": "Untitled10.ipynb",
      "provenance": [],
      "authorship_tag": "ABX9TyM3zoA46pW+pi6KrS35W9hn",
      "include_colab_link": true
    },
    "kernelspec": {
      "name": "python3",
      "display_name": "Python 3"
    },
    "language_info": {
      "name": "python"
    }
  },
  "cells": [
    {
      "cell_type": "markdown",
      "metadata": {
        "id": "view-in-github",
        "colab_type": "text"
      },
      "source": [
        "<a href=\"https://colab.research.google.com/github/MelodyFox/Snakycode/blob/main/fiouuuuuuuh.ipynb\" target=\"_parent\"><img src=\"https://colab.research.google.com/assets/colab-badge.svg\" alt=\"Open In Colab\"/></a>"
      ]
    },
    {
      "cell_type": "code",
      "metadata": {
        "colab": {
          "base_uri": "https://localhost:8080/"
        },
        "id": "R9iugqCZNfE3",
        "outputId": "e018912f-bc7e-442b-9af1-9c9f4c547af1"
      },
      "source": [
        "import time\n",
        "import sys\n",
        "\n",
        "t=int(input(\"please enter the number of seconds\"))\n",
        "\n",
        "\n",
        "def countdown(t):\n",
        "  while t != 0:\n",
        "    m,s=divmod(t,60)\n",
        "    timer ='\\r{:02d}:{:02d}'.format(m,s)\n",
        "    print(timer, end=\"\")\n",
        "    time.sleep(1)\n",
        "    t-=1\n",
        "  \n",
        "  print(\"fire in the hole!\")\n",
        "\n",
        "\n",
        "countdown(int(t))\n",
        "\n",
        "\n"
      ],
      "execution_count": 33,
      "outputs": [
        {
          "output_type": "stream",
          "text": [
            "00:01fire in the hole!\n"
          ],
          "name": "stdout"
        }
      ]
    }
  ]
}