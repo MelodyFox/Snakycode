{
  "nbformat": 4,
  "nbformat_minor": 0,
  "metadata": {
    "colab": {
      "name": "Untitled6.ipynb",
      "provenance": [],
      "authorship_tag": "ABX9TyM20wyST3LWJfD91/FOCavg",
      "include_colab_link": true
    },
    "kernelspec": {
      "name": "python3",
      "display_name": "Python 3"
    },
    "language_info": {
      "name": "python"
    }
  },
  "cells": [
    {
      "cell_type": "markdown",
      "metadata": {
        "id": "view-in-github",
        "colab_type": "text"
      },
      "source": [
        "<a href=\"https://colab.research.google.com/github/MelodyFox/Snakycode/blob/main/pandaas.ipynb\" target=\"_parent\"><img src=\"https://colab.research.google.com/assets/colab-badge.svg\" alt=\"Open In Colab\"/></a>"
      ]
    },
    {
      "cell_type": "code",
      "metadata": {
        "colab": {
          "base_uri": "https://localhost:8080/"
        },
        "id": "E6P-EnqabMuU",
        "outputId": "961abeca-5d44-4763-866c-9874294b3a2b"
      },
      "source": [
        "import numpy as np\n",
        "import pandas as pd\n",
        "\n",
        "\n",
        "exam_data = {'name': ['Anastasia', 'Dima', 'Katherine', 'James', 'Emily', 'Michael', 'Matthew', 'Laura', 'Kevin', 'Jonas'],\n",
        "'score': [12.5, 9, 16.5, np.nan, 9, 20, 14.5, np.nan, 8, 19],\n",
        "'attempts': [1, 3, 2, 3, 2, 3, 1, 1, 2, 1],\n",
        "'qualify': ['yes', 'no', 'yes', 'no', 'no', 'yes', 'yes', 'no', 'no', 'yes'],\n",
        "'lab': ['a', 'b', 'c', 'd', 'e', 'f', 'g', 'h', 'i', 'j']}\n",
        "\n",
        "exf= pd.DataFrame.from_dict(exam_data)\n",
        "\n",
        "exf.set_index(\"lab\",inplace=True)\n",
        "\n",
        "exft=exf.head(n=3)\n",
        "\n",
        "exfn= exf.loc[exf[\"score\"]>1]\n",
        "\n",
        "ext=exf.iloc[:,:2]\n",
        "\n",
        "nrow= {'name':'Suresh', 'score':15.5, 'attempts':1, 'qualify':'yes','lab':'k'}\n",
        "\n",
        "exfk= exfn.append(nrow,ignore_index=True)\n",
        "\n",
        "exfk.set_index(\"lab\",inplace=True)\n",
        "\n",
        "del exfk[\"attempts\"]\n",
        "\n",
        "slist=exfk[\"score\"].tolist()\n",
        "sclist=[]\n",
        "\n",
        "for i in slist:\n",
        "  if i>10:\n",
        "    sclist.append(1)\n",
        "  else:\n",
        "    sclist.append(0)\n",
        "\n",
        "sccol=pd.DataFrame(sclist)\n",
        "\n",
        "exfs=pd.concat([exfk,sccol])\n",
        "\n",
        "\n",
        "\n",
        "print(exfl)\n",
        "print(exft)\n",
        "print(exfn)\n",
        "print(ext)\n",
        "print(exfk)\n",
        "print(exfs)\n",
        "\n",
        "exfs.to_csv('my_data.csv')\n",
        "\n"
      ],
      "execution_count": 76,
      "outputs": [
        {
          "output_type": "stream",
          "text": [
            "None\n",
            "          name  score  attempts qualify\n",
            "lab                                    \n",
            "a    Anastasia   12.5         1     yes\n",
            "b         Dima    9.0         3      no\n",
            "c    Katherine   16.5         2     yes\n",
            "          name  score  attempts qualify\n",
            "lab                                    \n",
            "a    Anastasia   12.5         1     yes\n",
            "b         Dima    9.0         3      no\n",
            "c    Katherine   16.5         2     yes\n",
            "e        Emily    9.0         2      no\n",
            "f      Michael   20.0         3     yes\n",
            "g      Matthew   14.5         1     yes\n",
            "i        Kevin    8.0         2      no\n",
            "j        Jonas   19.0         1     yes\n",
            "          name  score\n",
            "lab                  \n",
            "a    Anastasia   12.5\n",
            "b         Dima    9.0\n",
            "c    Katherine   16.5\n",
            "d        James    NaN\n",
            "e        Emily    9.0\n",
            "f      Michael   20.0\n",
            "g      Matthew   14.5\n",
            "h        Laura    NaN\n",
            "i        Kevin    8.0\n",
            "j        Jonas   19.0\n",
            "          name  score qualify\n",
            "lab                          \n",
            "NaN  Anastasia   12.5     yes\n",
            "NaN       Dima    9.0      no\n",
            "NaN  Katherine   16.5     yes\n",
            "NaN      Emily    9.0      no\n",
            "NaN    Michael   20.0     yes\n",
            "NaN    Matthew   14.5     yes\n",
            "NaN      Kevin    8.0      no\n",
            "NaN      Jonas   19.0     yes\n",
            "k       Suresh   15.5     yes\n",
            "       0       name qualify  score\n",
            "NaN  NaN  Anastasia     yes   12.5\n",
            "NaN  NaN       Dima      no    9.0\n",
            "NaN  NaN  Katherine     yes   16.5\n",
            "NaN  NaN      Emily      no    9.0\n",
            "NaN  NaN    Michael     yes   20.0\n",
            "NaN  NaN    Matthew     yes   14.5\n",
            "NaN  NaN      Kevin      no    8.0\n",
            "NaN  NaN      Jonas     yes   19.0\n",
            "k    NaN     Suresh     yes   15.5\n",
            "0    1.0        NaN     NaN    NaN\n",
            "1    0.0        NaN     NaN    NaN\n",
            "2    1.0        NaN     NaN    NaN\n",
            "3    0.0        NaN     NaN    NaN\n",
            "4    1.0        NaN     NaN    NaN\n",
            "5    1.0        NaN     NaN    NaN\n",
            "6    0.0        NaN     NaN    NaN\n",
            "7    1.0        NaN     NaN    NaN\n",
            "8    1.0        NaN     NaN    NaN\n"
          ],
          "name": "stdout"
        }
      ]
    },
    {
      "cell_type": "markdown",
      "metadata": {
        "id": "MFpu_2ZAomYr"
      },
      "source": [
        ""
      ]
    }
  ]
}