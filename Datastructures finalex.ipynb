{
  "nbformat": 4,
  "nbformat_minor": 0,
  "metadata": {
    "colab": {
      "name": "Untitled2.ipynb",
      "provenance": [],
      "authorship_tag": "ABX9TyMdZ/VOfkSyvrq1STDGOnOa",
      "include_colab_link": true
    },
    "kernelspec": {
      "name": "python3",
      "display_name": "Python 3"
    },
    "language_info": {
      "name": "python"
    }
  },
  "cells": [
    {
      "cell_type": "markdown",
      "metadata": {
        "id": "view-in-github",
        "colab_type": "text"
      },
      "source": [
        "<a href=\"https://colab.research.google.com/github/MelodyFox/Snakycode/blob/main/Datastructures%20finalex.ipynb\" target=\"_parent\"><img src=\"https://colab.research.google.com/assets/colab-badge.svg\" alt=\"Open In Colab\"/></a>"
      ]
    },
    {
      "cell_type": "markdown",
      "metadata": {
        "id": "dKbm_9jYWb1D"
      },
      "source": [
        "### ***Question1: List product***"
      ]
    },
    {
      "cell_type": "code",
      "metadata": {
        "id": "FRg6-NO4Nnw4",
        "outputId": "42497fa3-c4a8-4b97-9991-c1b381abd534",
        "colab": {
          "base_uri": "https://localhost:8080/"
        }
      },
      "source": [
        "t=int(input(\"enter the number of items in your list\"))\n",
        "\n",
        "l=[]\n",
        "\n",
        "for i in range (1,t+1):\n",
        "    n=int(input(\"Please type any number\"))\n",
        "    l.append(n)\n",
        "\n",
        "print(\"your list is\",l)\n",
        "\n",
        "m=1\n",
        "for i in l:\n",
        "    m=m*i\n",
        "\n",
        "print(\"the product of all the items is\",m)\n",
        "\n"
      ],
      "execution_count": 8,
      "outputs": [
        {
          "output_type": "stream",
          "text": [
            "enter the number of items in your list3\n",
            "Please type any number12\n",
            "Please type any number45\n",
            "Please type any number36\n",
            "your list is [12, 45, 36]\n",
            "the product of all the items is 19440\n"
          ],
          "name": "stdout"
        }
      ]
    },
    {
      "cell_type": "markdown",
      "metadata": {
        "id": "Cmiq1weXESI0"
      },
      "source": [
        "# ***Question2:sorted tuple list***"
      ]
    },
    {
      "cell_type": "code",
      "metadata": {
        "id": "2EAUqdBIEHBq",
        "outputId": "a65f6b6f-6651-4777-e4fc-8f4ed469a152",
        "colab": {
          "base_uri": "https://localhost:8080/"
        }
      },
      "source": [
        "n=int(input(\"Please type the number of the tuples in your list\"))\n",
        "l=[]\n",
        "L=[]\n",
        "for i in range (1,n+1):\n",
        "    ni=int(input(\"Please type the number of items in your tuple\"))\n",
        "    for i in range (1,ni+1):\n",
        "        num=int(input(\"Please type any number\"))\n",
        "        l.append(num)\n",
        "    t=tuple(l)\n",
        "    L.append(t)\n",
        "print(\"your list is\",L)\n",
        "\n",
        "def lastel(t):\n",
        "    return(t[-1])\n",
        "\n",
        "L.sort(key=lastel)\n",
        "\n",
        "print(\"the sorted list is\",L)\n",
        "\n",
        "\n"
      ],
      "execution_count": 7,
      "outputs": [
        {
          "output_type": "stream",
          "text": [
            "Please type the number of the tuples in your list2\n",
            "Please type the number of items in your tuple2\n",
            "Please type any number56\n",
            "Please type any number12\n",
            "Please type the number of items in your tuple2\n",
            "Please type any number45\n",
            "Please type any number36\n",
            "your list is [(56, 12), (56, 12, 45, 36)]\n",
            "the sorted list is [(56, 12), (56, 12, 45, 36)]\n"
          ],
          "name": "stdout"
        }
      ]
    },
    {
      "cell_type": "markdown",
      "metadata": {
        "id": "dsF8l_ZzNEVv"
      },
      "source": [
        "# **Question 3: addictionnary** "
      ]
    },
    {
      "cell_type": "code",
      "metadata": {
        "id": "eVdV99M9NP3T",
        "outputId": "9144ca8a-2785-422c-e8f1-c8fec2abc6b9",
        "colab": {
          "base_uri": "https://localhost:8080/"
        }
      },
      "source": [
        "n=int(input(\"please type how many items in your first dictionnary\"))\n",
        "dict={}\n",
        "for i in range (1,n+1):\n",
        "    key=input(\"please type the key\")\n",
        "    val=int(input(\"please type the value for that key\"))\n",
        "    dict[key]=val\n",
        "\n",
        "print(\"the first dictionnary is\",dict)\n",
        "\n",
        "\n",
        "\n",
        "dict2={}\n",
        "for i in range (1,n+1):\n",
        "    key2=input(\"please type the key\")\n",
        "    val2=int(input(\"please type the value for that key\"))\n",
        "    dict2[key2]=val2\n",
        "\n",
        "print(\"the second dictionnary is\",dict2)\n",
        "\n",
        "addict={}\n",
        " \n",
        "for i in range (1,n+1):\n",
        "    if key==key2:\n",
        "      addict[key2]=val+val2\n",
        "\n",
        "print(\"the final dictionnary is\",addict)\n",
        "\n",
        "\n",
        "\n",
        "\n",
        "\n",
        "\n",
        "\n",
        "\n",
        "\n",
        "\n",
        "\n"
      ],
      "execution_count": 6,
      "outputs": [
        {
          "output_type": "stream",
          "text": [
            "please type how many items in your first dictionnary2\n",
            "please type the keyjim\n",
            "please type the value for that key46\n",
            "please type the keylom\n",
            "please type the value for that key23\n",
            "the first dictionnary is {'jim': 46, 'lom': 23}\n",
            "please type the keyjim\n",
            "please type the value for that key12\n",
            "please type the keybm\n",
            "please type the value for that key45\n",
            "the second dictionnary is {'jim': 12, 'bm': 45}\n",
            "the final dictionnary is {}\n"
          ],
          "name": "stdout"
        }
      ]
    },
    {
      "cell_type": "markdown",
      "metadata": {
        "id": "waH4ZY-RN7Az"
      },
      "source": [
        "# Question4:**Dicsquary** "
      ]
    },
    {
      "cell_type": "code",
      "metadata": {
        "id": "KvQE0mKmOLRb",
        "outputId": "e4c4a3bb-f316-4d37-e472-559542c9dab6",
        "colab": {
          "base_uri": "https://localhost:8080/"
        }
      },
      "source": [
        "n=int(input(\"please type any number\"))\n",
        "d={}\n",
        "for i in range (1,n+1):\n",
        "    d[i]=i*i\n",
        "    \n",
        "print(d)"
      ],
      "execution_count": 1,
      "outputs": [
        {
          "output_type": "stream",
          "text": [
            "please type any number3\n",
            "{1: 1, 2: 4, 3: 9}\n"
          ],
          "name": "stdout"
        }
      ]
    },
    {
      "cell_type": "markdown",
      "metadata": {
        "id": "WpJkGWSiOMcC"
      },
      "source": [
        "# Question5:***floatsorting***"
      ]
    },
    {
      "cell_type": "code",
      "metadata": {
        "colab": {
          "base_uri": "https://localhost:8080/"
        },
        "id": "ktG-sgdkOhfj",
        "outputId": "7a11f6f0-dbd0-41c0-dd7f-f52164ea67d1"
      },
      "source": [
        "l=[]\n",
        "l2=[]\n",
        "L=[]\n",
        "\n",
        "f=float(input(\"Please type any decimal number\"))\n",
        "l.append(f)\n",
        "v=input(\"please type anything\")\n",
        "l.append(v)\n",
        "t=tuple(l)\n",
        "L.append(t)\n",
        "\n",
        "f2=float(input(\"Please type any decimal number\"))\n",
        "l2.append(f2)\n",
        "v2=input(\"please type anything\")\n",
        "l2.append(v2)\n",
        "t2=tuple(l2)\n",
        "L.append(t2)\n",
        "\n",
        "print(\"your list is\",L)\n",
        "\n",
        "def floating(t,t2):\n",
        "    for i in t:\n",
        "      if type(i)is float==True:\n",
        "        return(i)\n",
        "    for i in t2:\n",
        "      if type(i)is float==True:\n",
        "        return(i)\n",
        "\n",
        "L.sort(key=floating(t,t2), reverse=True)\n",
        "\n",
        "print(\"the sorted list is\",L)\n"
      ],
      "execution_count": null,
      "outputs": [
        {
          "output_type": "stream",
          "text": [
            "Please type any decimal number2.65\n",
            "please type anythingslss\n",
            "Please type any decimal number95.2\n",
            "please type anythinghjoj\n",
            "your list is [(2.65, 'slss'), (95.2, 'hjoj')]\n",
            "the sorted list is [(95.2, 'hjoj'), (2.65, 'slss')]\n"
          ],
          "name": "stdout"
        }
      ]
    }
  ]
}