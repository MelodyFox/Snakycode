{
  "nbformat": 4,
  "nbformat_minor": 0,
  "metadata": {
    "colab": {
      "name": "Untitled8.ipynb",
      "provenance": [],
      "authorship_tag": "ABX9TyNxReQAM/BjwA6j/k0rvmgA",
      "include_colab_link": true
    },
    "kernelspec": {
      "name": "python3",
      "display_name": "Python 3"
    },
    "language_info": {
      "name": "python"
    }
  },
  "cells": [
    {
      "cell_type": "markdown",
      "metadata": {
        "id": "view-in-github",
        "colab_type": "text"
      },
      "source": [
        "<a href=\"https://colab.research.google.com/github/MelodyFox/Snakycode/blob/main/ffileees.ipynb\" target=\"_parent\"><img src=\"https://colab.research.google.com/assets/colab-badge.svg\" alt=\"Open In Colab\"/></a>"
      ]
    },
    {
      "cell_type": "code",
      "metadata": {
        "id": "2iHreFs6L3w7"
      },
      "source": [
        "fp = r\"C:\\Users\\hp\\Desktop\\textfilefor pythtext.txt\"\n",
        "with open(fp) as file:\n",
        "  stuff=file.read()\n",
        "  print(stuff)\n",
        "\n",
        "\n",
        "with open(fp) as file:\n",
        "    flines= file.readlines()[0:3]\n",
        "print(flines)\n",
        "\n",
        "\n",
        "\n",
        "with open(fp) as file:\n",
        "    llines= file.readlines()[3:]\n",
        "print(llines)\n",
        "\n",
        "\n",
        "nwords=0\n",
        "with open(fp) as file:\n",
        "\n",
        "    for line in file:\n",
        "        words=line.split()\n",
        "        nwords+=len(words)\n",
        "\n",
        "print(\"the number of words is\", nwords)\n",
        "\n"
      ],
      "execution_count": null,
      "outputs": []
    }
  ]
}