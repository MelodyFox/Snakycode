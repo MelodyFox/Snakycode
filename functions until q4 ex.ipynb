{
  "nbformat": 4,
  "nbformat_minor": 0,
  "metadata": {
    "colab": {
      "name": "Untitled3.ipynb",
      "provenance": [],
      "collapsed_sections": [],
      "authorship_tag": "ABX9TyOu+wfsAmTikns0kF8d7Q+2",
      "include_colab_link": true
    },
    "kernelspec": {
      "name": "python3",
      "display_name": "Python 3"
    },
    "language_info": {
      "name": "python"
    }
  },
  "cells": [
    {
      "cell_type": "markdown",
      "metadata": {
        "id": "view-in-github",
        "colab_type": "text"
      },
      "source": [
        "<a href=\"https://colab.research.google.com/github/MelodyFox/Snakycode/blob/main/functions%20until%20q4%20ex.ipynb\" target=\"_parent\"><img src=\"https://colab.research.google.com/assets/colab-badge.svg\" alt=\"Open In Colab\"/></a>"
      ]
    },
    {
      "cell_type": "markdown",
      "metadata": {
        "id": "JG3qIR5Ic6HP"
      },
      "source": [
        "question1\n"
      ]
    },
    {
      "cell_type": "code",
      "metadata": {
        "id": "sA0PmeUmsECX",
        "outputId": "b579b3e4-892f-4fef-b121-21988ba14d2b",
        "colab": {
          "base_uri": "https://localhost:8080/"
        }
      },
      "source": [
        "def max(a,b,c):\n",
        "    if a-b>0 and a-c>0:\n",
        "        print(a)\n",
        "    elif a-b<0 and c-b<0:\n",
        "        print(b)\n",
        "    else:\n",
        "        print(c)\n",
        "\n",
        "a=int(input(\"please type a number\")) \n",
        "b=int(input(\"please type a number\"))\n",
        "c=int(input(\"please type a number\"))\n",
        "\n",
        "print(max(a,b,c))"
      ],
      "execution_count": 1,
      "outputs": [
        {
          "output_type": "stream",
          "text": [
            "please type a number4\n",
            "please type a number6\n",
            "please type a number2\n",
            "6\n",
            "None\n"
          ],
          "name": "stdout"
        }
      ]
    },
    {
      "cell_type": "markdown",
      "metadata": {
        "id": "upslSWVddJae"
      },
      "source": [
        "question2"
      ]
    },
    {
      "cell_type": "code",
      "metadata": {
        "id": "RMrIYrxa_Kde",
        "outputId": "c58c81c8-ebad-443f-fa06-2679c671f96d",
        "colab": {
          "base_uri": "https://localhost:8080/"
        }
      },
      "source": [
        "def calculation(a,b):\n",
        "    ad=a+b\n",
        "    sb=a-b\n",
        "    return(ad,sb)\n",
        "\n",
        "a=int(input(\"please type a number\"))\n",
        "b=int(input(\"please type a number\"))\n",
        "\n",
        "print(calculation(a,b))\n"
      ],
      "execution_count": 2,
      "outputs": [
        {
          "output_type": "stream",
          "text": [
            "please type a number5\n",
            "please type a number6\n",
            "(11, -1)\n"
          ],
          "name": "stdout"
        }
      ]
    },
    {
      "cell_type": "markdown",
      "metadata": {
        "id": "_tnHMFjHdS0e"
      },
      "source": [
        "question3"
      ]
    },
    {
      "cell_type": "code",
      "metadata": {
        "id": "auYV59DCRmv1",
        "outputId": "dddc1237-a2fb-4b9c-d9bc-81af7724833d",
        "colab": {
          "base_uri": "https://localhost:8080/"
        }
      },
      "source": [
        "list=[]\n",
        "n=int(input(\"please type the number of items in your list\"))\n",
        "for i in range (1,n+1):\n",
        "    x=int(input(\"please type a number\"))\n",
        "    list.append(x)\n",
        "print(\"your list is\", list)\n",
        "\n",
        "elist=[]\n",
        "unelist=[]\n",
        "\n",
        "for i in list:\n",
        "\n",
        "    if list.index(i)%2==0:\n",
        "        elist.append(i)\n",
        "    else:\n",
        "        unelist.append(i)\n",
        "\n",
        "print(elist)\n",
        "print(unelist)\n",
        "\n",
        "def add(elist):\n",
        "    s=0\n",
        "    for i in elist:\n",
        "        s=s+i\n",
        "    return(s)\n",
        "\n",
        "def mul(unelist):\n",
        "    m=1\n",
        "    for i in unelist:\n",
        "        m=m*i\n",
        "    return(m)\n",
        "\n",
        "print(\"the sum of even numbers is\",add(elist))\n",
        "print(\"the product of all uneven numbers is\",mul(unelist))\n",
        "\n",
        "\n"
      ],
      "execution_count": 3,
      "outputs": [
        {
          "output_type": "stream",
          "text": [
            "please type the number of items in your list3\n",
            "please type a number5\n",
            "please type a number6\n",
            "please type a number7\n",
            "your list is [5, 6, 7]\n",
            "[5, 7]\n",
            "[6]\n",
            "the sum of even numbers is 12\n",
            "the product of all uneven numbers is 6\n"
          ],
          "name": "stdout"
        }
      ]
    },
    {
      "cell_type": "markdown",
      "metadata": {
        "id": "-qPzGbsSdVs1"
      },
      "source": [
        "question4"
      ]
    },
    {
      "cell_type": "code",
      "metadata": {
        "id": "mT8G8pSjR3aS",
        "outputId": "88e8ab56-6d32-4098-99d3-16f70ea46134",
        "colab": {
          "base_uri": "https://localhost:8080/"
        }
      },
      "source": [
        "n=int(input(\"please type the number of words\"))\n",
        "seq=\"\"\n",
        "for i in range (1,n+1):\n",
        "    w=str(input(\"pease enter your word\"))\n",
        "    if i in range(1,n):\n",
        "        seq=seq+w+'-'\n",
        "    else:\n",
        "        seq=seq+w\n",
        "\n",
        "print(\"the sequence is\",seq)\n",
        "\n",
        "seqsplited= seq.split(\"-\")\n",
        "\n",
        "sp=sorted(seqsplited)\n",
        "\n",
        "wsplit=\"\"\n",
        "\n",
        "for i in sp:\n",
        "\n",
        "    if sp.index(i)!= len(sp)-1 :\n",
        "        wsplit= wsplit+i+\"-\"\n",
        "    else:\n",
        "        wsplit = wsplit + i\n",
        "\n",
        "print(\"the sorted sequence is\",wsplit)\n",
        "\n"
      ],
      "execution_count": 4,
      "outputs": [
        {
          "output_type": "stream",
          "text": [
            "please type the number of words3\n",
            "pease enter your wordbong\n",
            "pease enter your wordbing\n",
            "pease enter your wordbang\n",
            "the sequence is bong-bing-bang\n",
            "the sorted sequence is bang-bing-bong\n"
          ],
          "name": "stdout"
        }
      ]
    }
  ]
}