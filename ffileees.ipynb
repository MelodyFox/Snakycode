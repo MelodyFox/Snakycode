{
  "nbformat": 4,
  "nbformat_minor": 0,
  "metadata": {
    "colab": {
      "name": "Untitled8.ipynb",
      "provenance": [],
      "authorship_tag": "ABX9TyNxReQAM/BjwA6j/k0rvmgA",
      "include_colab_link": true
    },
    "kernelspec": {
      "name": "python3",
      "display_name": "Python 3"
    },
    "language_info": {
      "name": "python"
    }
  },
  "cells": [
    {
      "cell_type": "markdown",
      "metadata": {
        "id": "view-in-github",
        "colab_type": "text"
      },
      "source": [
        "<a href=\"https://colab.research.google.com/github/MelodyFox/Snakycode/blob/main/ffileees.ipynb\" target=\"_parent\"><img src=\"https://colab.research.google.com/assets/colab-badge.svg\" alt=\"Open In Colab\"/></a>"
      ]
    },
    {
      "cell_type": "code",
      "metadata": {
        "id": "2iHreFs6L3w7"
      },
      "source": [
        "fp = r\"C:\\Users\\hp\\Desktop\\textfilefor pythtext.txt\"\n",
        "with open(fp) as file:\n",
        "  stuff=file.read()\n",
        "  print(stuff)\n",
        "\n",
        "\n",
        "with open(fp) as file:\n",
        "    flines= file.readlines()[0:3]\n",
        "print(flines)\n",
        "\n",
        "\n",
        "\n",
        "with open(fp) as file:\n",
        "    llines= file.readlines()[3:]\n",
        "print(llines)\n",
        "\n",
        "\n",
        "nwords=0\n",
        "with open(fp) as file:\n",
        "\n",
        "    for line in file:\n",
        "        words=line.split()\n",
        "        nwords+=len(words)\n",
        "\n",
        "print(\"the number of words is\", nwords)\n",
        "\n"
      ],
      "execution_count": null,
      "outputs": []
    }
  ]
}




C:\Users\hp\PycharmProjects\oooo\venv\Scripts\python.exe C:/Users/hp/PycharmProjects/oooo/venv/filees.py
What is Python language?                                                
Python is a widely used high-level, general-purpose, interpreted, dynamic programming language.Its design philosophy emphasizes code readability, and its syntax allows programmers to express concepts in fewer lines of code than possible in 
languages such as C++ or Java. 
Python supports multiple programming paradigms, including object-oriented, imperative and functional programming or procedural styles. It features a dynamic type system and automatic memory management and has a large and comprehensive standard library.The best way we learn anything is by practice and exercise questions. We  have started this section for those (beginner to intermediate) who are familiar with Python.
['What is Python language?                                                \n', 'Python is a widely used high-level, general-purpose, interpreted, dynamic programming language.Its design philosophy emphasizes code readability, and its syntax allows programmers to express concepts in fewer lines of code than possible in \n', 'languages such as C++ or Java. \n']
['Python supports multiple programming paradigms, including object-oriented, imperative and functional programming or procedural styles. It features a dynamic type system and automatic memory management and has a large and comprehensive standard library.The best way we learn anything is by practice and exercise questions. We  have started this section for those (beginner to intermediate) who are familiar with Python.']
the number of words is 100

Process finished with exit code 0
