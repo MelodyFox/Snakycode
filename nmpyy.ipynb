{
  "nbformat": 4,
  "nbformat_minor": 0,
  "metadata": {
    "colab": {
      "name": "Untitled5.ipynb",
      "provenance": [],
      "authorship_tag": "ABX9TyOVP3ZMwX1SiowoOtSIcNTe",
      "include_colab_link": true
    },
    "kernelspec": {
      "name": "python3",
      "display_name": "Python 3"
    },
    "language_info": {
      "name": "python"
    }
  },
  "cells": [
    {
      "cell_type": "markdown",
      "metadata": {
        "id": "view-in-github",
        "colab_type": "text"
      },
      "source": [
        "<a href=\"https://colab.research.google.com/github/MelodyFox/Snakycode/blob/main/nmpyy.ipynb\" target=\"_parent\"><img src=\"https://colab.research.google.com/assets/colab-badge.svg\" alt=\"Open In Colab\"/></a>"
      ]
    },
    {
      "cell_type": "code",
      "metadata": {
        "colab": {
          "base_uri": "https://localhost:8080/"
        },
        "id": "sLJzglJt-tsh",
        "outputId": "62cd556e-b0d8-4eb0-a7df-64d58f2cea77"
      },
      "source": [
        "import numpy as np\n",
        "arr= np.array([1,2,3,4,5])\n",
        "l= arr.tolist()\n",
        "print(l)\n",
        "\n",
        "\n"
      ],
      "execution_count": 2,
      "outputs": [
        {
          "output_type": "stream",
          "text": [
            "[1, 2, 3, 4, 5]\n"
          ],
          "name": "stdout"
        }
      ]
    },
    {
      "cell_type": "code",
      "metadata": {
        "colab": {
          "base_uri": "https://localhost:8080/"
        },
        "id": "diuoor8X_ZhD",
        "outputId": "fe29e4de-7ce5-4897-e759-6ffd5e21bda5"
      },
      "source": [
        "import numpy as np\n",
        "arr=np.array([[1,2,3],[4,5,6],[7,8,9]])\n",
        "s=arr.trace()\n",
        "print(arr)\n",
        "print(s)"
      ],
      "execution_count": 8,
      "outputs": [
        {
          "output_type": "stream",
          "text": [
            "[[1 2 3]\n",
            " [4 5 6]\n",
            " [7 8 9]]\n",
            "15\n"
          ],
          "name": "stdout"
        }
      ]
    },
    {
      "cell_type": "code",
      "metadata": {
        "colab": {
          "base_uri": "https://localhost:8080/"
        },
        "id": "CkHmNjkeH0uI",
        "outputId": "ac536544-6028-4d04-fe3b-5fa01020cf84"
      },
      "source": [
        "import numpy as np\n",
        "arr=np.array([[1,2,3],[4,5,6]])\n",
        "x=int(input(\"enter any number\"))\n",
        "l=[]\n",
        "for i in arr:\n",
        "  if (i>x).any():\n",
        "    l.append(i)\n",
        "print(l)\n",
        "\n"
      ],
      "execution_count": 18,
      "outputs": [
        {
          "output_type": "stream",
          "text": [
            "enter any number3\n",
            "[array([4, 5, 6])]\n"
          ],
          "name": "stdout"
        }
      ]
    },
    {
      "cell_type": "code",
      "metadata": {
        "colab": {
          "base_uri": "https://localhost:8080/"
        },
        "id": "2UkdJ_B_KBFf",
        "outputId": "64fe672b-4cb5-45a0-ef66-950d6b77bf4c"
      },
      "source": [
        "import numpy as np\n",
        "arr1=np.array([[1,2,3],[3,4,5]])\n",
        "arr2=np.array([[11,12,13],[14,15,16]])\n",
        "l1=arr1.tolist()\n",
        "l2=arr2.tolist()\n",
        "l3=[]\n",
        "for i in l1:\n",
        "    for i2 in l2:\n",
        "      l3.append(i+i2)\n",
        "arr3=np.array(l3)\n",
        "print(arr3)"
      ],
      "execution_count": 30,
      "outputs": [
        {
          "output_type": "stream",
          "text": [
            "[[ 1  2  3 11 12 13]\n",
            " [ 1  2  3 14 15 16]\n",
            " [ 3  4  5 11 12 13]\n",
            " [ 3  4  5 14 15 16]]\n"
          ],
          "name": "stdout"
        }
      ]
    },
    {
      "cell_type": "code",
      "metadata": {
        "colab": {
          "base_uri": "https://localhost:8080/"
        },
        "id": "2JfXQN48N3Mn",
        "outputId": "da9bd107-85ab-44ac-9ec0-91d2dfc89042"
      },
      "source": [
        "import numpy as np\n",
        "arr=np.array([[1,2,3],[4,5,6],[7,8,9]])\n",
        "for a in range(1,2):\n",
        "  m=np.mean(arr,axis=a)\n",
        "  i=np.where(m)  \n",
        "arr1= np.delete(arr,i)\n",
        "print(arr1)"
      ],
      "execution_count": 38,
      "outputs": [
        {
          "output_type": "stream",
          "text": [
            "[4 5 6 7 8 9]\n"
          ],
          "name": "stdout"
        }
      ]
    }
  ]
}