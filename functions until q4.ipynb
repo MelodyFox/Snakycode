{
  "nbformat": 4,
  "nbformat_minor": 0,
  "metadata": {
    "colab": {
      "name": "Untitled3.ipynb",
      "provenance": [],
      "collapsed_sections": [],
      "authorship_tag": "ABX9TyOu+wfsAmTikns0kF8d7Q+2",
      "include_colab_link": true
    },
    "kernelspec": {
      "name": "python3",
      "display_name": "Python 3"
    },
    "language_info": {
      "name": "python"
    }
  },
  "cells": [
    {
      "cell_type": "markdown",
      "metadata": {
        "id": "view-in-github",
        "colab_type": "text"
      },
      "source": [
        "<a href=\"https://colab.research.google.com/github/MelodyFox/Snakycode/blob/main/functions%20until%20q4.ipynb\" target=\"_parent\"><img src=\"https://colab.research.google.com/assets/colab-badge.svg\" alt=\"Open In Colab\"/></a>"
      ]
    },
    {
      "cell_type": "markdown",
      "metadata": {
        "id": "JG3qIR5Ic6HP"
      },
      "source": [
        "question1\n"
      ]
    },
    {
      "cell_type": "code",
      "metadata": {
        "id": "sA0PmeUmsECX"
      },
      "source": [
        "def max(a,b,c):\n",
        "    if a-b>0 and a-c>0:\n",
        "        print(a)\n",
        "    elif a-b<0 and c-b<0:\n",
        "        print(b)\n",
        "    else:\n",
        "        print(c)\n",
        "\n",
        "a=int(input(\"please type a number\")) \n",
        "b=int(input(\"please type a number\"))\n",
        "c=int(input(\"please type a number\"))\n",
        "\n",
        "print(max(a,b,c))"
      ],
      "execution_count": null,
      "outputs": []
    },
    {
      "cell_type": "markdown",
      "metadata": {
        "id": "upslSWVddJae"
      },
      "source": [
        "question2"
      ]
    },
    {
      "cell_type": "code",
      "metadata": {
        "id": "RMrIYrxa_Kde"
      },
      "source": [
        "def calculation(a,b):\n",
        "    ad=a+b\n",
        "    sb=a-b\n",
        "    return(ad,sb)\n",
        "\n",
        "a=int(input(\"please type a number\"))\n",
        "b=int(input(\"please type a number\"))\n",
        "\n",
        "print(calculation(a,b))\n"
      ],
      "execution_count": null,
      "outputs": []
    },
    {
      "cell_type": "markdown",
      "metadata": {
        "id": "_tnHMFjHdS0e"
      },
      "source": [
        "question3"
      ]
    },
    {
      "cell_type": "code",
      "metadata": {
        "id": "auYV59DCRmv1"
      },
      "source": [
        "list=[]\n",
        "n=int(input(\"please type the number of items in your list\"))\n",
        "for i in range (1,n+1):\n",
        "    x=int(input(\"please type a number\"))\n",
        "    list.append(x)\n",
        "print(\"your list is\", list)\n",
        "\n",
        "elist=[]\n",
        "unelist=[]\n",
        "\n",
        "for i in list:\n",
        "\n",
        "    if list.index(i)%2==0:\n",
        "        elist.append(i)\n",
        "    else:\n",
        "        unelist.append(i)\n",
        "\n",
        "print(elist)\n",
        "print(unelist)\n",
        "\n",
        "def add(elist):\n",
        "    s=0\n",
        "    for i in elist:\n",
        "        s=s+i\n",
        "    return(s)\n",
        "\n",
        "def mul(unelist):\n",
        "    m=1\n",
        "    for i in unelist:\n",
        "        m=m*i\n",
        "    return(m)\n",
        "\n",
        "print(\"the sum of even numbers is\",add(elist))\n",
        "print(\"the product of all uneven numbers is\",mul(unelist))\n",
        "\n",
        "\n"
      ],
      "execution_count": null,
      "outputs": []
    },
    {
      "cell_type": "markdown",
      "metadata": {
        "id": "-qPzGbsSdVs1"
      },
      "source": [
        "question4"
      ]
    },
    {
      "cell_type": "code",
      "metadata": {
        "id": "mT8G8pSjR3aS"
      },
      "source": [
        "n=int(input(\"please type the number of words\"))\n",
        "seq=\"\"\n",
        "for i in range (1,n+1):\n",
        "    w=str(input(\"pease enter your word\"))\n",
        "    if i in range(1,n):\n",
        "        seq=seq+w+'-'\n",
        "    else:\n",
        "        seq=seq+w\n",
        "\n",
        "print(\"the sequence is\",seq)\n",
        "\n",
        "seqsplited= seq.split(\"-\")\n",
        "\n",
        "sp=sorted(seqsplited)\n",
        "\n",
        "wsplit=\"\"\n",
        "\n",
        "for i in sp:\n",
        "\n",
        "    if sp.index(i)!= len(sp)-1 :\n",
        "        wsplit= wsplit+i+\"-\"\n",
        "    else:\n",
        "        wsplit = wsplit + i\n",
        "\n",
        "print(\"the sorted sequence is\",wsplit)\n",
        "\n"
      ],
      "execution_count": null,
      "outputs": []
    }
  ]
}