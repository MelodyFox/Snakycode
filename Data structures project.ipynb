{
  "nbformat": 4,
  "nbformat_minor": 0,
  "metadata": {
    "colab": {
      "name": "Untitled2.ipynb",
      "provenance": [],
      "authorship_tag": "ABX9TyMXAk6/VD0L540BS7y569MC",
      "include_colab_link": true
    },
    "kernelspec": {
      "name": "python3",
      "display_name": "Python 3"
    },
    "language_info": {
      "name": "python"
    }
  },
  "cells": [
    {
      "cell_type": "markdown",
      "metadata": {
        "id": "view-in-github",
        "colab_type": "text"
      },
      "source": [
        "<a href=\"https://colab.research.google.com/github/MelodyFox/Snakycode/blob/main/Data%20structures%20project.ipynb\" target=\"_parent\"><img src=\"https://colab.research.google.com/assets/colab-badge.svg\" alt=\"Open In Colab\"/></a>"
      ]
    },
    {
      "cell_type": "markdown",
      "metadata": {
        "id": "dKbm_9jYWb1D"
      },
      "source": [
        "### ***Question1: List product***"
      ]
    },
    {
      "cell_type": "code",
      "metadata": {
        "colab": {
          "base_uri": "https://localhost:8080/"
        },
        "id": "FRg6-NO4Nnw4",
        "outputId": "6cbc13a7-5f06-466b-fd28-d45171712831"
      },
      "source": [
        "t=int(input(\"enter the number of items in your list\"))\n",
        "\n",
        "l=[]\n",
        "\n",
        "for i in range (1,t+1):\n",
        "    n=int(input(\"Please type any number\"))\n",
        "    l.append(n)\n",
        "\n",
        "print(\"your list is\",l)\n",
        "\n",
        "m=1\n",
        "for i in l:\n",
        "    m=m*i\n",
        "\n",
        "print(\"the product of all the items is\",m)\n",
        "\n"
      ],
      "execution_count": 1,
      "outputs": [
        {
          "output_type": "stream",
          "text": [
            "enter the number of items in your list3\n",
            "Please type any number2\n",
            "Please type any number3\n",
            "Please type any number4\n",
            "your list is [2, 3, 4]\n",
            "the product of all the items is 24\n"
          ],
          "name": "stdout"
        }
      ]
    },
    {
      "cell_type": "markdown",
      "metadata": {
        "id": "6PW11R9SWz4e"
      },
      "source": [
        ""
      ]
    }
  ]
}