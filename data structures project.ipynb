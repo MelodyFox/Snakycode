{
  "nbformat": 4,
  "nbformat_minor": 0,
  "metadata": {
    "colab": {
      "name": "Untitled2.ipynb",
      "provenance": [],
      "authorship_tag": "ABX9TyMSUw/t6FUqToKMnkWyn86n",
      "include_colab_link": true
    },
    "kernelspec": {
      "name": "python3",
      "display_name": "Python 3"
    },
    "language_info": {
      "name": "python"
    }
  },
  "cells": [
    {
      "cell_type": "markdown",
      "metadata": {
        "id": "view-in-github",
        "colab_type": "text"
      },
      "source": [
        "<a href=\"https://colab.research.google.com/github/MelodyFox/Snakycode/blob/main/data%20structures%20project.ipynb\" target=\"_parent\"><img src=\"https://colab.research.google.com/assets/colab-badge.svg\" alt=\"Open In Colab\"/></a>"
      ]
    },
    {
      "cell_type": "markdown",
      "metadata": {
        "id": "dKbm_9jYWb1D"
      },
      "source": [
        "### ***Question1: List product***"
      ]
    },
    {
      "cell_type": "code",
      "metadata": {
        "id": "FRg6-NO4Nnw4"
      },
      "source": [
        "t=int(input(\"enter the number of items in your list\"))\n",
        "\n",
        "l=[]\n",
        "\n",
        "for i in range (1,t+1):\n",
        "    n=int(input(\"Please type any number\"))\n",
        "    l.append(n)\n",
        "\n",
        "print(\"your list is\",l)\n",
        "\n",
        "m=1\n",
        "for i in l:\n",
        "    m=m*i\n",
        "\n",
        "print(\"the product of all the items is\",m)\n",
        "\n"
      ],
      "execution_count": null,
      "outputs": []
    },
    {
      "cell_type": "markdown",
      "metadata": {
        "id": "Cmiq1weXESI0"
      },
      "source": [
        "# ***Question2:sorted tuple list***"
      ]
    },
    {
      "cell_type": "code",
      "metadata": {
        "id": "2EAUqdBIEHBq"
      },
      "source": [
        "n=int(input(\"Please type the number of the tuples in your list\"))\n",
        "l=[]\n",
        "L=[]\n",
        "for i in range (1,n+1):\n",
        "    ni=int(input(\"Please type the number of items in your tuple\"))\n",
        "    for i in range (1,ni+1):\n",
        "        num=int(input(\"Please type any number\"))\n",
        "        l.append(num)\n",
        "        def convert(l):\n",
        "          return tuple(l)\n",
        "    L.append(convert(l))\n",
        "\n",
        "print(\"your list is\",L)\n",
        "\n",
        "def takelast(elem):\n",
        "    return elem[1]\n",
        "L.sort(key=takelast)\n",
        "\n",
        "print(\"the sorted list is\",L)\n",
        "\n",
        "\n"
      ],
      "execution_count": null,
      "outputs": []
    }
  ]
}