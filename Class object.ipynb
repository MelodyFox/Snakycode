{
  "nbformat": 4,
  "nbformat_minor": 0,
  "metadata": {
    "colab": {
      "name": "Untitled4.ipynb",
      "provenance": [],
      "authorship_tag": "ABX9TyPPcqWm4c8n4oMHteV6Kof7",
      "include_colab_link": true
    },
    "kernelspec": {
      "name": "python3",
      "display_name": "Python 3"
    },
    "language_info": {
      "name": "python"
    }
  },
  "cells": [
    {
      "cell_type": "markdown",
      "metadata": {
        "id": "view-in-github",
        "colab_type": "text"
      },
      "source": [
        "<a href=\"https://colab.research.google.com/github/MelodyFox/Snakycode/blob/main/Class%20object.ipynb\" target=\"_parent\"><img src=\"https://colab.research.google.com/assets/colab-badge.svg\" alt=\"Open In Colab\"/></a>"
      ]
    },
    {
      "cell_type": "markdown",
      "metadata": {
        "id": "eTp6K2Tv_9tk"
      },
      "source": [
        "q1"
      ]
    },
    {
      "cell_type": "code",
      "metadata": {
        "colab": {
          "base_uri": "https://localhost:8080/"
        },
        "id": "6HMpNd9V_2hy",
        "outputId": "a2d44945-a73e-4727-e170-9fab4cb447ec"
      },
      "source": [
        "class Point3D:\n",
        "    def __init__(self,x,y,z):\n",
        "        self.dim1=x\n",
        "        self.dim2=y\n",
        "        self.dim3=z\n",
        "    def coord(self):\n",
        "        c= [self.dim1,self.dim2,self.dim3]\n",
        "        return c\n",
        "\n",
        "mypoint=Point3D(1,2,3)\n",
        "\n",
        "print(mypoint.coord())\n"
      ],
      "execution_count": 1,
      "outputs": [
        {
          "output_type": "stream",
          "text": [
            "[1, 2, 3]\n"
          ],
          "name": "stdout"
        }
      ]
    },
    {
      "cell_type": "markdown",
      "metadata": {
        "id": "atPpXiSu_-KT"
      },
      "source": [
        "q2"
      ]
    },
    {
      "cell_type": "code",
      "metadata": {
        "colab": {
          "base_uri": "https://localhost:8080/"
        },
        "id": "2JLGD0mW_7KW",
        "outputId": "8a25452f-fb34-4468-e6c4-b37ec897fd27"
      },
      "source": [
        "class Rectangle:\n",
        "    def __init__(self,o,t):\n",
        "        self.toul=t\n",
        "        self.ordh=o\n",
        "    def per(self):\n",
        "         p= (self.toul+ self.ordh)*2\n",
        "         return(p)\n",
        "    def area(self):\n",
        "         a=self.toul*self.ordh\n",
        "         return (a)\n",
        "\n",
        "mostatil= Rectangle(5,4)\n",
        "\n",
        "print(mostatil.area())\n",
        "print(mostatil.per())\n",
        "\n"
      ],
      "execution_count": 2,
      "outputs": [
        {
          "output_type": "stream",
          "text": [
            "20\n",
            "18\n"
          ],
          "name": "stdout"
        }
      ]
    },
    {
      "cell_type": "markdown",
      "metadata": {
        "id": "gQwMr9BH_-bs"
      },
      "source": [
        "q3"
      ]
    },
    {
      "cell_type": "code",
      "metadata": {
        "colab": {
          "base_uri": "https://localhost:8080/"
        },
        "id": "OsWDSLtf_7Wz",
        "outputId": "8729fb8d-e62b-4ef5-a869-e07fe696bd81"
      },
      "source": [
        "class Circle:\n",
        "    def __init__(self,xo,yo,r):\n",
        "        self.xcenter=xo\n",
        "        self.ycenter=yo\n",
        "        self.radius=r\n",
        "\n",
        "    def per(self):\n",
        "         p=self.radius*3.14*2\n",
        "         return(p)\n",
        "\n",
        "    def area(self):\n",
        "         a=self.radius**2*3.14\n",
        "         return (a)\n",
        "\n",
        "    def isInside(self):\n",
        "        x=int(input(\"please enter the x coordinate of your point\"))\n",
        "        y=int(input(\"please enter the y coordinate of your point\"))\n",
        "        if (x-self.xcenter)**2+(y-self.ycenter)**2==self.radius**2:\n",
        "            print(\"this point belongs to the circle\")\n",
        "        else:\n",
        "            print(\"this point is not in the circle\")\n",
        "\n",
        "\n",
        "\n",
        "doura= Circle(0,0,5)\n",
        "\n",
        "print(doura.area())\n",
        "print(doura.per())\n",
        "print(doura.isInside())\n",
        "\n"
      ],
      "execution_count": 3,
      "outputs": [
        {
          "output_type": "stream",
          "text": [
            "78.5\n",
            "31.400000000000002\n",
            "please enter the x coordinate of your point4\n",
            "please enter the y coordinate of your point3\n",
            "this point belongs to the circle\n",
            "None\n"
          ],
          "name": "stdout"
        }
      ]
    },
    {
      "cell_type": "markdown",
      "metadata": {
        "id": "gfdxVB0u_-nL"
      },
      "source": [
        "q4"
      ]
    },
    {
      "cell_type": "code",
      "metadata": {
        "colab": {
          "base_uri": "https://localhost:8080/"
        },
        "id": "FA6uy4Cw_7hr",
        "outputId": "466717ef-3a6b-473b-b4c8-5eca421ff497"
      },
      "source": [
        "class Bank:\n",
        "    def __init__(self,b):\n",
        "        self.balance=b\n",
        "\n",
        "    def deposit(self):\n",
        "        d=int(input(\"enter the deposit value\"))\n",
        "        dbal= self.balance+d\n",
        "        return(dbal)\n",
        "\n",
        "    def withdraw(self):\n",
        "        w=int(input(\"enter the withdraw value\"))\n",
        "        wbal=self.balance-w\n",
        "        return(wbal)\n",
        "\n",
        "mybank=Bank(600)\n",
        "\n",
        "print(mybank.deposit())\n",
        "print(mybank.withdraw())"
      ],
      "execution_count": 4,
      "outputs": [
        {
          "output_type": "stream",
          "text": [
            "enter the deposit value32\n",
            "632\n",
            "enter the withdraw value16\n",
            "584\n"
          ],
          "name": "stdout"
        }
      ]
    }
  ]
}