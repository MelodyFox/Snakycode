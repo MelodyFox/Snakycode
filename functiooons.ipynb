{
  "nbformat": 4,
  "nbformat_minor": 0,
  "metadata": {
    "colab": {
      "name": "Untitled3.ipynb",
      "provenance": [],
      "authorship_tag": "ABX9TyPi9K+nXyOwQHSilFTiscpi",
      "include_colab_link": true
    },
    "kernelspec": {
      "name": "python3",
      "display_name": "Python 3"
    },
    "language_info": {
      "name": "python"
    }
  },
  "cells": [
    {
      "cell_type": "markdown",
      "metadata": {
        "id": "view-in-github",
        "colab_type": "text"
      },
      "source": [
        "<a href=\"https://colab.research.google.com/github/MelodyFox/Snakycode/blob/main/functiooons.ipynb\" target=\"_parent\"><img src=\"https://colab.research.google.com/assets/colab-badge.svg\" alt=\"Open In Colab\"/></a>"
      ]
    },
    {
      "cell_type": "code",
      "metadata": {
        "colab": {
          "base_uri": "https://localhost:8080/"
        },
        "id": "sA0PmeUmsECX",
        "outputId": "aa3c29c0-116e-48c6-87bc-c419cd2f9a8f"
      },
      "source": [
        "def max(a,b,c):\n",
        "    if a-b>0 and a-c>0:\n",
        "        print(a)\n",
        "    elif a-b<0 and c-b<0:\n",
        "        print(b)\n",
        "    else:\n",
        "        print(c)\n",
        "\n",
        "a=int(input(\"please type a number\")) \n",
        "b=int(input(\"please type a number\"))\n",
        "c=int(input(\"please type a number\"))\n",
        "\n",
        "print(max(a,b,c))"
      ],
      "execution_count": 5,
      "outputs": [
        {
          "output_type": "stream",
          "text": [
            "please type a number5\n",
            "please type a number3\n",
            "please type a number4\n",
            "5\n",
            "None\n"
          ],
          "name": "stdout"
        }
      ]
    }
  ]
}